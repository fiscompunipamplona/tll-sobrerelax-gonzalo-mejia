{
 "cells": [
  {
   "cell_type": "markdown",
   "metadata": {},
   "source": [
    "## SOBRE RELAJACIÓN\n",
    "\n",
    "El método de relajación ordinario implica iterar la ecuación $x'= f (x)$, comenzando desde una suposición inicial, hasta que converja. Como hemos visto, esta es a menudo una forma rápida y fácil de encontrar soluciones a ecuaciones no lineales. Sin embargo, en algunos casos es posible hacer el método trabaje aún más rápido utilizando la técnica de sobre relajación. Supongamos que nuestra conjetura inicial en la solución de una ecuación particular es, digamos, $x = 1$, y la solución verdadera final es $x = 5$. Después del primer paso del proceso iterativo, podríamos ver un valor de, digamos, $x = 3$. En el método de sobre relajación, observamos este valor y observamos que $x$ está aumentando, luego deliberadamente sobrepasamos el valor calculado valor, con la esperanza de que esto nos acerque a la solución final, en este caso podríamos pasar sobre $x = 3$ e ir directamente a un valor de $x = 4$ quizás, que está más cerca de la solución final de $x = 5$ y, por lo tanto, debería llevarnos a esa solución más rápido. El método de sobre relajación proporciona un fórmula para realizar este tipo de rebosamiento de manera controlada y, a menudo, aunque no siempre, nos lleva a nuestra solución más rápido. En detalle, funciona de la siguiente manera. Podemos reescribir la ecuación $x'=f (x)$ en la forma $x'= x + ∆x$, donde:\n",
    "\n",
    "\\begin{equation}\n",
    "\\Delta x=x'-x=f(x)-x\n",
    "\\end{equation}\n",
    "\n",
    "El método de sobre relajación implica la iteración de la ecuación modificada.\n",
    "\n",
    "\\begin{equation}\n",
    "x'=x+(1+w)\\Delta x\n",
    "\\end{equation}\n",
    "\n",
    "(manteniendo la definición de $∆x$ igual). Si el parámetro ω es cero, entonces es el mismo que el método de relajación ordinario, pero para $ω> 0$ el método toma la cantidad $∆x$ por la cual el valor de $x$ habría cambiado y cambia un poco más. Usando $∆x = f (x) - x$, también podemos escribir $x'$ como:\n",
    "\n",
    "\\begin{equation}\n",
    "x'=x+(1+w)\\left [ f(x)-x \\right ]=(1+w)f(x)-wx\n",
    "\\end{equation}\n",
    "\n",
    "Cual es la forma en que generalmente se escribe.\n",
    "\n",
    "Para que el método funcione, el valor de $ω$ debe elegirse correctamente, aunque hay algo de margen de maniobra: hay un valor óptimo, pero otros valores cercanos también suelen dar buenos resultados. Desafortunadamente, no existe una teoría general que nos diga cuál es el valor óptimo. Por lo general, se encuentra por prueba y error.\n",
    "\n",
    "\n",
    "a) Derive un equivalente de la ecuación. (6.81) para el método de sobre relajación y, por lo tanto, muestra que el error en $x'$, el equivalente de la ecuación. (6.83), viene dado por:\n",
    "\n",
    "\\begin{equation}\n",
    "\\varepsilon'=\\frac{x-x'}{1-1/\\left [ (1+w)f'(x)-w \\right ]}\n",
    "\\end{equation}\n",
    "\n",
    "b) Considere nuevamente la ecuación $x = 1 - e - cx$ que resolvimos en el ejercicio 6.10. Tome el programa que escribió para la parte (a) de ese ejercicio, que resolvió la ecuación para el caso $c = 2$, y modifíquelo para imprimir el número de iteraciones necesarias para converger en una solución precisa de $10 – 6$.\n",
    "\n",
    "c) Ahora escriba un nuevo programa (o modifique el anterior) para resolver la misma ecuación $x = 1 - e - cx$ para $c = 2$, nuevamente con una precisión de $10 - 6$, pero esta vez usando sobrerelajamiento. Haga que su programa imprima las respuestas que encuentre junto con la cantidad de iteraciones que tomó para encontrarlas. Experimente con diferentes valores de $ω$ para ver qué tan rápido puede lograr que el método converja. Un valor de $ω = 0.5$ es un punto de partida razonable. Con un poco de prueba y error, debería poder hacer que el cálculo converja aproximadamente el doble de rápido que el método de relajación simple, es decir, en aproximadamente la mitad de las iteraciones.\n",
    "\n",
    "d) ¿Hay alguna circunstancia bajo la cual usar un valor $ω <0$ nos ayudaría a encontrar una solución más rápido de lo que podemos con el método de relajación ordinario? (Sugerencia: la respuesta es sí, pero ¿por qué?)\n",
    "\n"
   ]
  },
  {
   "cell_type": "markdown",
   "metadata": {},
   "source": [
    "## SOLUCIÓN"
   ]
  },
  {
   "cell_type": "markdown",
   "metadata": {},
   "source": [
    "Partiendo de la definicion de $x^{*}$\n",
    "\n",
    "\\begin{equation}\n",
    "x^{*}=x'+\\varepsilon'  \\\\\n",
    "\\end{equation}\n",
    "\n",
    "Ahora, conociendo el valor de $x{}'$ para el metodo de overrelajacion\n",
    "\n",
    "\\begin{equation}\n",
    "x'=(1+\\omega)f(x)-\\omega x\n",
    "\\end{equation}\n",
    "\n",
    "Reemplazando $x{}'$ en $x^{*}$, obtenemos\n",
    "\n",
    "\\begin{equation}\n",
    "x^{*}=(1+\\omega)f(x)-\\omega x+\\varepsilon'\\\\\n",
    "f'(x^{*})=(1+\\omega)f'(x)-\\\n",
    "\\end{equation}\n",
    "\n",
    "Reescribiendo para obtner un estimado de $\\varepsilon' $ Ec.6.83\n",
    "\n",
    "\\begin{equation}\n",
    "\\varepsilon' =\\frac{x-x^{*}}{1-\\frac{1}{f'(x^{*})}}\n",
    "\\end{equation}\n",
    "\n",
    "Reemplazando los valores encontrados obtenemos\n",
    "\n",
    "\\begin{equation}\n",
    "\\varepsilon'=\\frac{x-x^{*}}{1-\\frac{1}{(1+\\omega)f'(x)-\\omega}}\n",
    "\\end{equation}\n"
   ]
  },
  {
   "cell_type": "code",
   "execution_count": 1,
   "metadata": {},
   "outputs": [
    {
     "name": "stdout",
     "output_type": "stream",
     "text": [
      "numero de interationes =  15\n",
      "0.7968113781935964\n",
      "Para omega =  0.75 El numero de interationes =  4\n",
      "0.7968111595136407\n"
     ]
    }
   ],
   "source": [
    "from scipy import exp\n",
    "\n",
    "# Constantes\n",
    "exactitud = 10 ** -6\n",
    "\n",
    "def g(c):\n",
    "    iterationes = 1\n",
    "    def f(m):\n",
    "        return 1 - exp(- c * m)\n",
    "\n",
    "    def error(m1, m2):\n",
    "        return (m1 - m2) / (1 - 1 / (c * exp(-c * m1)))\n",
    "\n",
    "    m1 = 0.5 # valor inicial\n",
    "    m2 = f(m1)\n",
    "    while(abs(error(m1, m2)) > exactitud):\n",
    "        m1, m2 = m2, f(m2)\n",
    "        iterationes += 1\n",
    "    print('numero de interationes = ', iterationes)\n",
    "    return m2\n",
    "\n",
    "def g_sobrerelajacion(c, omega):\n",
    "    iterationes = 1\n",
    "\n",
    "    def f(m):\n",
    "        return 1 - exp(- c * m)\n",
    "\n",
    "    def f_prima(m):\n",
    "        return c * exp(- c * m)\n",
    "\n",
    "    def error(m1, m2):\n",
    "        return (m1 - m2) / (1 - 1 / ((1 + omega) * f_prima(m1) - omega))\n",
    "\n",
    "    m1 = 0.5  # valor inicial\n",
    "    m2 = (1 + omega) * f(m1) - omega * m1\n",
    "    while abs(error(m1, m2)) > exactitud:\n",
    "        m1, m2 = m2, (1 + omega) * f(m2) - omega * m2\n",
    "        iterationes += 1\n",
    "    print('Para omega = ', omega,'El numero de interationes = ', iterationes)\n",
    "    return m2\n",
    "\n",
    "print(g(2))\n",
    "print(g_sobrerelajacion(2, 0.75))"
   ]
  },
  {
   "cell_type": "markdown",
   "metadata": {},
   "source": [
    "Es posible que deseemos usar una omega < 0 si en cada iteración la función supera la solucción, es decir, comenzamos con x=2 y la siguiente iteración da x=3 pero la solución es 2.5."
   ]
  },
  {
   "cell_type": "code",
   "execution_count": null,
   "metadata": {},
   "outputs": [],
   "source": []
  }
 ],
 "metadata": {
  "kernelspec": {
   "display_name": "Python 3",
   "language": "python",
   "name": "python3"
  },
  "language_info": {
   "codemirror_mode": {
    "name": "ipython",
    "version": 3
   },
   "file_extension": ".py",
   "mimetype": "text/x-python",
   "name": "python",
   "nbconvert_exporter": "python",
   "pygments_lexer": "ipython3",
   "version": "3.5.2"
  }
 },
 "nbformat": 4,
 "nbformat_minor": 2
}
